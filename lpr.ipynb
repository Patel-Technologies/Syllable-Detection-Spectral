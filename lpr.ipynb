{
 "cells": [
  {
   "cell_type": "code",
   "execution_count": null,
   "metadata": {},
   "outputs": [],
   "source": [
    "import librosa\n",
    "import numpy as np\n",
    "import matplotlib.pyplot as plt\n",
    "import scipy\n",
    "import math"
   ]
  },
  {
   "cell_type": "code",
   "execution_count": null,
   "metadata": {},
   "outputs": [],
   "source": [
    "y, sr = librosa.load('a.wav')\n",
    "y = y[0:88200]\n",
    "a = librosa.lpc(y, order=10)\n",
    "b = np.hstack([[0], -1 * a[1:]])\n",
    "y_hat = scipy.signal.lfilter(b, [1], y)\n",
    "fig, ax = plt.subplots()\n",
    "lp_r=y-y_hat\n",
    "ax.plot(lp_r, linestyle='--')\n",
    "ax.set_title('LP Model Forward Prediction Residual')\n",
    "plt.show()"
   ]
  },
  {
   "cell_type": "code",
   "execution_count": null,
   "metadata": {},
   "outputs": [],
   "source": [
    "\n",
    "# compute hilbert envelope of the residual\n",
    "hilbert_envelope = np.abs(scipy.signal.hilbert(lp_r))\n",
    "fig, ax = plt.subplots()\n",
    "ax.plot(hilbert_envelope, linestyle='--')\n",
    "ax.set_title('Hilbert Envelope of LP Model Forward Prediction Residual')\n",
    "plt.show()\n"
   ]
  },
  {
   "cell_type": "code",
   "execution_count": null,
   "metadata": {},
   "outputs": [],
   "source": [
    "# Find the VOP evidence by convolving the Hilbert Envelope with modified Gaussian window of size 800\n",
    "gaussian_window = scipy.signal.gaussian(800, std=100)\n",
    "vop_evidence = np.convolve(hilbert_envelope, gaussian_window, mode='same')\n",
    "fig, ax = plt.subplots()\n",
    "ax.plot(vop_evidence, linestyle='--')\n",
    "ax.set_title('VOP Evidence')\n",
    "plt.show()"
   ]
  },
  {
   "cell_type": "code",
   "execution_count": null,
   "metadata": {},
   "outputs": [],
   "source": [
    "# Identify all peaks preceded with negative regions known as valleys\n",
    "peaks, _ = scipy.signal.find_peaks(vop_evidence)\n",
    "valleys, _ = scipy.signal.find_peaks(-1 * vop_evidence)\n",
    "valleys = valleys[vop_evidence[valleys] < 0.1 * np.max(vop_evidence)]\n",
    "fig, ax = plt.subplots()\n",
    "ax.plot(vop_evidence, linestyle='--')\n",
    "ax.plot(peaks, vop_evidence[peaks], \"x\")\n",
    "# ax.plot(valleys, vop_evidence[valleys], \"x\")\n",
    "ax.set_title('VOP Evidence with Peaks and Valleys')\n",
    "plt.show()"
   ]
  },
  {
   "cell_type": "code",
   "execution_count": null,
   "metadata": {},
   "outputs": [],
   "source": [
    "# Choose peaks only with deep valleys, else eliminate the peak\n",
    "peaks = peaks[vop_evidence[peaks] > 0.1 * np.max(vop_evidence)]\n",
    "valleys = valleys[vop_evidence[valleys] < 0.1 * np.max(vop_evidence)]\n",
    "fig, ax = plt.subplots()\n",
    "ax.plot(vop_evidence, linestyle='--')\n",
    "ax.plot(peaks, vop_evidence[peaks], \"x\")\n",
    "# ax.plot(valleys, vop_evidence[valleys], \"x\")\n",
    "ax.set_title('VOP Evidence with Peaks and Valleys')\n",
    "plt.show()\n"
   ]
  },
  {
   "cell_type": "code",
   "execution_count": null,
   "metadata": {},
   "outputs": [],
   "source": [
    "# Eliminate the peaks which are closer to peaks with distance less than 65ms\n",
    "prev_elem = peaks[0]\n",
    "new_list = [prev_elem]  # <====== initialise with one element\n",
    "for elem in peaks[1:]:\n",
    "    if abs(new_list[-1]-elem) >= 0.065*sr:\n",
    "         new_list.append(elem)  # <===== append the new element\n",
    "         prev_elem = elem  # <===== indented more (inside \"if\" block)\n",
    "\n",
    "peaks = np.array(new_list)\n",
    "fig, ax = plt.subplots()\n",
    "ax.plot(vop_evidence, linestyle='--')\n",
    "ax.plot(peaks, vop_evidence[peaks], \"x\")\n",
    "# ax.plot(valleys, vop_evidence[valleys], \"x\")\n",
    "ax.set_title('VOP Evidence with Peaks and Valleys')\n",
    "plt.show()"
   ]
  },
  {
   "cell_type": "code",
   "execution_count": null,
   "metadata": {},
   "outputs": [],
   "source": [
    "# Find the frame in which the selected peaks occur and label them as VOP frames\n",
    "vop_frames = np.zeros(len(y))\n",
    "for i in peaks:\n",
    "    vop_frames[i] = 1\n",
    "fig, ax = plt.subplots()\n",
    "ax.plot(vop_frames, linestyle='-')\n",
    "ax.set_title('VOP Frames')\n",
    "plt.show()"
   ]
  }
 ],
 "metadata": {
  "kernelspec": {
   "display_name": "Python 3.10.6 64-bit",
   "language": "python",
   "name": "python3"
  },
  "language_info": {
   "codemirror_mode": {
    "name": "ipython",
    "version": 3
   },
   "file_extension": ".py",
   "mimetype": "text/x-python",
   "name": "python",
   "nbconvert_exporter": "python",
   "pygments_lexer": "ipython3",
   "version": "3.10.6"
  },
  "orig_nbformat": 4,
  "vscode": {
   "interpreter": {
    "hash": "b0fa6594d8f4cbf19f97940f81e996739fb7646882a419484c72d19e05852a7e"
   }
  }
 },
 "nbformat": 4,
 "nbformat_minor": 2
}
